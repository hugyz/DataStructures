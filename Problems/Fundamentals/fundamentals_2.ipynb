{
 "cells": [
  {
   "cell_type": "code",
   "execution_count": 2,
   "metadata": {},
   "outputs": [],
   "source": [
    "# Write a for loop that prints the element of the array alongside its index\n",
    "# Ex/ [\"I\", \"am\", \"a\", \"giraffe\"] => I 1 am 2 a 3 giraffe 4 \n",
    "arr = [\"I\", \"am\", \"a\", \"giraffe\"]"
   ]
  },
  {
   "cell_type": "code",
   "execution_count": null,
   "metadata": {},
   "outputs": [],
   "source": [
    "# Write a while loop that determines if an element in the array is positive or negative, and prints it\n",
    "# Ex/ [-1,1,-1,1,-1] => Negative, Positive, Negative, Positive, Negative"
   ]
  },
  {
   "cell_type": "code",
   "execution_count": null,
   "metadata": {},
   "outputs": [],
   "source": [
    "# Wanted output:\n",
    "\"\"\"\n",
    "aa\n",
    "ab\n",
    "bb\n",
    "ba\n",
    "\"\"\"\n",
    "arr = [\"a\", \"b\"]"
   ]
  },
  {
   "cell_type": "code",
   "execution_count": null,
   "metadata": {},
   "outputs": [],
   "source": [
    "# Wanted output:\n",
    "\"\"\"\n",
    "aa\n",
    "ab\n",
    "bb\n",
    "ba\n",
    "\"\"\"\n",
    "arr = [\"a\", \"b\"]\n",
    "# do it using two while loops"
   ]
  },
  {
   "cell_type": "code",
   "execution_count": null,
   "metadata": {},
   "outputs": [],
   "source": [
    "# Print all the added permutations of the array\n",
    "arr = [1,2,3,4,5]    # Output: 2, 3, 4, 5, 3, 4, 5, 6, 7, 4, 5, 6, 7, 8, 5, 6, 7, 8, 9, 6, 7, 8, 9, 10\n"
   ]
  }
 ],
 "metadata": {
  "kernelspec": {
   "display_name": "Python 3",
   "language": "python",
   "name": "python3"
  },
  "language_info": {
   "codemirror_mode": {
    "name": "ipython",
    "version": 3
   },
   "file_extension": ".py",
   "mimetype": "text/x-python",
   "name": "python",
   "nbconvert_exporter": "python",
   "pygments_lexer": "ipython3",
   "version": "3.11.6"
  }
 },
 "nbformat": 4,
 "nbformat_minor": 2
}
