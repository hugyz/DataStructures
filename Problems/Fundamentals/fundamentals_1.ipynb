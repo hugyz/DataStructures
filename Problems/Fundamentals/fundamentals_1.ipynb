{
 "cells": [
  {
   "cell_type": "code",
   "execution_count": null,
   "metadata": {},
   "outputs": [],
   "source": [
    "# Treat as homework, due tomorrow."
   ]
  },
  {
   "cell_type": "code",
   "execution_count": null,
   "metadata": {},
   "outputs": [],
   "source": [
    "# Create a function that accepts two integers and adds them together.\n",
    "#   [] Call the function properly and print its result in this cell."
   ]
  },
  {
   "cell_type": "code",
   "execution_count": null,
   "metadata": {},
   "outputs": [],
   "source": [
    "# Create a while loop that lists out the elements in the following array:\n",
    "arr = [\"hi\", \"my\", \"name\", \"is\", \"bob\"]\n",
    "# The output should have spaces and look like: hi my name is bob\n",
    "#   [] it should not like:\n",
    "# hi\n",
    "# my\n",
    "# name\n",
    "# is\n",
    "# bob\n"
   ]
  },
  {
   "cell_type": "code",
   "execution_count": null,
   "metadata": {},
   "outputs": [],
   "source": [
    "# Write me a basic do while loop."
   ]
  },
  {
   "cell_type": "code",
   "execution_count": null,
   "metadata": {},
   "outputs": [],
   "source": [
    "# Write me a function that takes in an array of integers and returns the product of all elements \n",
    "#   multiplied to each other."
   ]
  },
  {
   "cell_type": "code",
   "execution_count": null,
   "metadata": {},
   "outputs": [],
   "source": [
    "# Given three numbers x, y, z. Write a while loop that increments x by 1, y by 2, and z by 3\n",
    "#   for one real second.\n",
    "x = 0\n",
    "y = 0\n",
    "z = 0"
   ]
  },
  {
   "cell_type": "code",
   "execution_count": 1,
   "metadata": {},
   "outputs": [
    {
     "name": "stdout",
     "output_type": "stream",
     "text": [
      "ello\n"
     ]
    }
   ],
   "source": [
    "x = 0\n",
    "y = 1\n",
    "# Given two numbers, write a one-line if statement that outputs \n",
    "# \"Yes\" when x is greater than y and \"No\" if not"
   ]
  },
  {
   "cell_type": "code",
   "execution_count": null,
   "metadata": {},
   "outputs": [],
   "source": [
    "# Create a class TreeNode that has the attributes val, left, and right.\n",
    "#   left and right are both of the type TreeNode and val is an integer.\n",
    "# Then, accurately create a TreeNode and print its val."
   ]
  },
  {
   "cell_type": "code",
   "execution_count": null,
   "metadata": {},
   "outputs": [],
   "source": [
    "# Write a for-loop that takes the index and multiplies it to the element of an integer array.\n",
    "#   Ex: [1 ,2, 3, 4, 5] will output [0, 2, 6, 12, 20]"
   ]
  },
  {
   "cell_type": "code",
   "execution_count": 2,
   "metadata": {},
   "outputs": [],
   "source": [
    "# Setup two functions that do whatever you want.\n",
    "# Accurately have it such that one function returns the other.\n"
   ]
  },
  {
   "cell_type": "code",
   "execution_count": null,
   "metadata": {},
   "outputs": [],
   "source": [
    "# Create a separate file with a function that concantenates two strings.\n",
    "# Call the function from this file\n",
    "hello = \"hello\"\n",
    "world = \"world\""
   ]
  },
  {
   "cell_type": "code",
   "execution_count": null,
   "metadata": {},
   "outputs": [],
   "source": [
    "# Create a random number generator.\n",
    "# Your code should allow me to input in a range of my choosing and then print the number generated.\n"
   ]
  }
 ],
 "metadata": {
  "kernelspec": {
   "display_name": "Python 3",
   "language": "python",
   "name": "python3"
  },
  "language_info": {
   "codemirror_mode": {
    "name": "ipython",
    "version": 3
   },
   "file_extension": ".py",
   "mimetype": "text/x-python",
   "name": "python",
   "nbconvert_exporter": "python",
   "pygments_lexer": "ipython3",
   "version": "3.11.6"
  }
 },
 "nbformat": 4,
 "nbformat_minor": 2
}
