{
 "cells": [
  {
   "cell_type": "code",
   "execution_count": null,
   "metadata": {},
   "outputs": [],
   "source": [
    "# Treat as homework, due tomorrow."
   ]
  },
  {
   "cell_type": "code",
   "execution_count": null,
   "metadata": {},
   "outputs": [],
   "source": [
    "# Create a function that accepts two integers and adds them together.\n",
    "#   [] Call the function properly and print its result in this cell.\n",
    "def myfunc(x, y):\n",
    "    return x + y\n",
    "\n",
    "myfunc(1,2)"
   ]
  },
  {
   "cell_type": "code",
   "execution_count": 3,
   "metadata": {},
   "outputs": [
    {
     "name": "stdout",
     "output_type": "stream",
     "text": [
      "hi my name is bob \n"
     ]
    }
   ],
   "source": [
    "# Create a while loop that lists out the elements in the following array:\n",
    "arr = [\"hi\", \"my\", \"name\", \"is\", \"bob\"]\n",
    "# The output should have spaces and look like: hi my name is bob\n",
    "#   [] it should not like:\n",
    "# hi\n",
    "# my\n",
    "# name\n",
    "# is\n",
    "# bob\n",
    "i = 0\n",
    "res = \"\"\n",
    "while i < len(arr):\n",
    "    res = res + arr[i] + \" \"\n",
    "    i += 1\n",
    "print(res) \n"
   ]
  },
  {
   "cell_type": "code",
   "execution_count": null,
   "metadata": {},
   "outputs": [],
   "source": [
    "# Write me a function that takes in an array of integers and returns the product of all elements \n",
    "#   multiplied to each other.\n",
    "def product_from_arr(arr):\n",
    "    product = 1\n",
    "    for i in arr:\n",
    "        product *= i\n",
    "    return product"
   ]
  },
  {
   "cell_type": "code",
   "execution_count": 1,
   "metadata": {},
   "outputs": [
    {
     "name": "stdout",
     "output_type": "stream",
     "text": [
      "ello\n"
     ]
    }
   ],
   "source": [
    "x = 0\n",
    "y = 1\n",
    "# Given two numbers, write a one-line if statement that outputs \n",
    "# \"Yes\" when x is greater than y and \"No\" if not\n",
    "print (\"yes\") if x > y else print (\"no\")"
   ]
  },
  {
   "cell_type": "code",
   "execution_count": 5,
   "metadata": {},
   "outputs": [
    {
     "name": "stdout",
     "output_type": "stream",
     "text": [
      "node1's val is 15\n"
     ]
    }
   ],
   "source": [
    "# Create a class TreeNode that has the attributes val, left, right, and parent.\n",
    "#   left, right, and parent are both of the type TreeNode and val is an integer.\n",
    "# Then, accurately create a TreeNode and print its val.\n",
    "class TreeNode:\n",
    "    def __init__(self, val=-1, left=None, right=None, parent=None):\n",
    "        self.val = val \n",
    "        self.left = left \n",
    "        self.right = right \n",
    "        self.parent = parent \n",
    "    \n",
    "node1 = TreeNode(15)\n",
    "print(\"node1's val is\", node1.val)"
   ]
  },
  {
   "cell_type": "code",
   "execution_count": 6,
   "metadata": {},
   "outputs": [
    {
     "name": "stdout",
     "output_type": "stream",
     "text": [
      "[0, 2, 6, 12, 20]\n"
     ]
    }
   ],
   "source": [
    "# Write a for-loop that takes the index and multiplies it to the element of an integer array.\n",
    "#   Ex: [1 ,2, 3, 4, 5] will output [0, 2, 6, 12, 20]\n",
    "arr = [1,2,3,4,5]\n",
    "for i in range(len(arr)):\n",
    "    arr[i] *= i \n",
    "print(arr)"
   ]
  },
  {
   "cell_type": "code",
   "execution_count": 7,
   "metadata": {},
   "outputs": [
    {
     "name": "stdout",
     "output_type": "stream",
     "text": [
      "5\n"
     ]
    }
   ],
   "source": [
    "# Setup two functions that do whatever you want.\n",
    "# Accurately have it such that one function returns the other.\n",
    "def sub(x,y):\n",
    "    return x - y \n",
    "def sub2(x,y):\n",
    "    return sub(x,y)\n",
    "print(sub2(10,5))"
   ]
  },
  {
   "cell_type": "code",
   "execution_count": 8,
   "metadata": {},
   "outputs": [
    {
     "name": "stdout",
     "output_type": "stream",
     "text": [
      "hello world\n"
     ]
    }
   ],
   "source": [
    "# Create a separate file with a function that concantenates two strings.\n",
    "# Call the function from this file\n",
    "import separate_file\n",
    "\n",
    "hello = \"hello\"\n",
    "world = \"world\"\n",
    "print ( separate_file.add_two_strings(hello, world) )\n"
   ]
  },
  {
   "cell_type": "code",
   "execution_count": 11,
   "metadata": {},
   "outputs": [
    {
     "name": "stdout",
     "output_type": "stream",
     "text": [
      "4\n"
     ]
    }
   ],
   "source": [
    "# Create a random number generator.\n",
    "# Your code should allow me to input in a range of my choosing and then print the number generated.\n",
    "import random\n",
    "your_input = int(input())\n",
    "randint = random.randrange(your_input)      # randrange takes one argument range\n",
    "print( randint )\n"
   ]
  }
 ],
 "metadata": {
  "kernelspec": {
   "display_name": "Python 3",
   "language": "python",
   "name": "python3"
  },
  "language_info": {
   "codemirror_mode": {
    "name": "ipython",
    "version": 3
   },
   "file_extension": ".py",
   "mimetype": "text/x-python",
   "name": "python",
   "nbconvert_exporter": "python",
   "pygments_lexer": "ipython3",
   "version": "3.11.6"
  }
 },
 "nbformat": 4,
 "nbformat_minor": 2
}
