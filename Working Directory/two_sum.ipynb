{
 "cells": [
  {
   "cell_type": "code",
   "execution_count": null,
   "metadata": {},
   "outputs": [],
   "source": [
    "# Two Sum (Most Accepted Python Interview Question)\n",
    "# https://leetcode.com/problems/two-sum/\n",
    "\"\"\"\n",
    "Given an array of integers nums and an integer target, return indices of \n",
    "the two numbers such that they add up to target.\n",
    "\n",
    "You may assume that each input would have exactly \n",
    "one solution, and you may not use the same element twice.\n",
    "\n",
    "You can return the answer in any order.\n",
    "\"\"\""
   ]
  },
  {
   "cell_type": "code",
   "execution_count": null,
   "metadata": {},
   "outputs": [],
   "source": [
    "\"\"\" \n",
    "Example 1:\n",
    "\n",
    "Input: nums = [2,7,11,15], target = 9\n",
    "Output: [0,1]\n",
    "Explanation: Because nums[0] + nums[1] == 9, we return [0, 1].\n",
    "Example 2:\n",
    "\n",
    "Input: nums = [3,2,4], target = 6\n",
    "Output: [1,2]\n",
    "Example 3:\n",
    "\n",
    "Input: nums = [3,3], target = 6\n",
    "Output: [0,1]\n",
    "\n",
    "Constraints:\n",
    "\n",
    "2 <= nums.length <= 10^4\n",
    "-10^9 <= nums[i] <= 10^9\n",
    "-10^9 <= target <= 10^9\n",
    "Only one valid answer exists.\n",
    "\"\"\""
   ]
  },
  {
   "cell_type": "code",
   "execution_count": 5,
   "metadata": {},
   "outputs": [
    {
     "name": "stdout",
     "output_type": "stream",
     "text": [
      "[2, 3]\n",
      "[0, 1]\n"
     ]
    }
   ],
   "source": [
    "# nums is a list(), target is an int()\n",
    "def two_sum(nums, target):\n",
    "    for i in range(len(nums)):\n",
    "        for j in range(i + 1, len(nums)):\n",
    "            if nums[i] + nums[j] == target:\n",
    "                return [i,j]        \n",
    "\n",
    "\n",
    "nums = [1,2,4,5,6]\n",
    "target = 9\n",
    "\n",
    "myreturn = two_sum(nums, target)\n",
    "\n",
    "print(myreturn)\n",
    "\n",
    "\n",
    "nums = [3,3]\n",
    "target = 6\n",
    "print (two_sum(nums, target))\n",
    "# Output: [0,1]\n",
    "\n",
    "# Notes\n",
    "# indicies tells us type of for loop\n",
    "# one array and multiple permutations tells us two for loops\n",
    "# \n",
    "\n",
    "# HW: visualize two for loops\n",
    "# finish two_sum:\n",
    "# check when two elements summed equal target \n",
    "    # when True: return indices"
   ]
  },
  {
   "cell_type": "code",
   "execution_count": null,
   "metadata": {},
   "outputs": [],
   "source": []
  }
 ],
 "metadata": {
  "kernelspec": {
   "display_name": "Python 3",
   "language": "python",
   "name": "python3"
  },
  "language_info": {
   "codemirror_mode": {
    "name": "ipython",
    "version": 3
   },
   "file_extension": ".py",
   "mimetype": "text/x-python",
   "name": "python",
   "nbconvert_exporter": "python",
   "pygments_lexer": "ipython3",
   "version": "3.12.0"
  },
  "orig_nbformat": 4
 },
 "nbformat": 4,
 "nbformat_minor": 2
}
