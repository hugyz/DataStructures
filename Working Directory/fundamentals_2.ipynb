{
 "cells": [
  {
   "cell_type": "code",
   "execution_count": null,
   "metadata": {},
   "outputs": [],
   "source": []
  },
  {
   "cell_type": "code",
   "execution_count": 37,
   "metadata": {},
   "outputs": [
    {
     "name": "stdout",
     "output_type": "stream",
     "text": [
      "I 0 am 1 a 2 giraffe 3 "
     ]
    }
   ],
   "source": [
    "# Write a for loop that prints the element of the array alongside its index\n",
    "# Ex/ [\"I\", \"am\", \"a\", \"giraffe\"] => I 1 am 2 a 3 giraffe 4 \n",
    "arr = [\"I\", \"am\", \"a\", \"giraffe\"]\n",
    "\n",
    "for a in range(len(arr)):\n",
    "    print(arr[a], a, end=\" \")\n",
    "\n",
    "    "
   ]
  },
  {
   "cell_type": "code",
   "execution_count": 31,
   "metadata": {},
   "outputs": [
    {
     "name": "stdout",
     "output_type": "stream",
     "text": [
      "negative negative negative positive positive positive positive negative "
     ]
    }
   ],
   "source": [
    "# Write a while loop that determines if an element in the array is positive or negative, and prints it\n",
    "# Ex/ [-1,1,-1,1,-1] => Negative, Positive, Negative, Positive, Negative\n",
    "\n",
    "abb = [-5,-3,-1,0,1,3,5,-6]\n",
    "#i = 0\n",
    "#while i < len(abb):\n",
    "#    if abb[i] < 0:\n",
    "#        print(\"negative\", end = \" \")\n",
    "#    i += 1\n",
    "#    while i < len(abb):\n",
    "#        if abb[i] > 0:\n",
    "#            print(\"positive\", end = \" \") \n",
    "#        break\n",
    "\n",
    "i = 0\n",
    "while i < len(abb):\n",
    "    if abb[i] < 0:\n",
    "        print(\"negative\", end = \" \")\n",
    "    else:\n",
    "        print(\"positive\", end = \" \")\n",
    "    i += 1"
   ]
  },
  {
   "cell_type": "code",
   "execution_count": null,
   "metadata": {},
   "outputs": [],
   "source": [
    "# Wanted output:\n",
    "\"\"\"\n",
    "aa\n",
    "ab\n",
    "bb\n",
    "ba\n",
    "\"\"\"\n",
    "arr = [\"a\", \"b\"]\n"
   ]
  },
  {
   "cell_type": "code",
   "execution_count": 31,
   "metadata": {},
   "outputs": [
    {
     "name": "stdout",
     "output_type": "stream",
     "text": [
      "a a\n",
      "a b\n",
      "b a\n",
      "b b\n"
     ]
    }
   ],
   "source": [
    "# Wanted output:\n",
    "\"\"\"\n",
    "aa\n",
    "ab\n",
    "bb\n",
    "ba\n",
    "\"\"\"\n",
    "arr = [\"a\", \"b\"]\n",
    "# do it using two while loops\n",
    "\n",
    "i = 0\n",
    "j = 0\n",
    "while i < len(arr):\n",
    "    while j < len(arr):\n",
    "        print(arr[i],arr[j])\n",
    "        j += 1\n",
    "    j = 0\n",
    "    i += 1\n",
    "\n",
    "\n",
    "\n",
    "\n",
    "    \n"
   ]
  },
  {
   "cell_type": "code",
   "execution_count": null,
   "metadata": {},
   "outputs": [],
   "source": [
    "# Print all the added permutations of the array\n",
    "arr = [1,2,3,4,5]    # Output: 2, 3, 4, 5, 3, 4, 5, 6, 7, 4, 5, 6, 7, 8, 5, 6, 7, 8, 9, 6, 7, 8, 9, 10\n"
   ]
  },
  {
   "cell_type": "code",
   "execution_count": 21,
   "metadata": {},
   "outputs": [
    {
     "name": "stdout",
     "output_type": "stream",
     "text": [
      "positive\n",
      "negative\n"
     ]
    }
   ],
   "source": [
    "# define a function such that if the inputed integer is positive, print positive. If it is not, then print negative. \n",
    "\n",
    "def pos_neg(int):\n",
    "    if int > 0:\n",
    "        print(\"positive\")\n",
    "    else:\n",
    "        print(\"negative\")\n",
    "\n",
    "pos_neg(10)\n",
    "pos_neg(-10)"
   ]
  },
  {
   "cell_type": "code",
   "execution_count": 23,
   "metadata": {},
   "outputs": [
    {
     "name": "stdout",
     "output_type": "stream",
     "text": [
      "[2, 3, 4]\n"
     ]
    }
   ],
   "source": [
    "# create a function that takes in an array of integers, adds 1 to all the elements, and returns the array. Then, print out the array.\n",
    "\n",
    "def add_1(arr: list[int]):\n",
    "    for i in range(len(arr)):\n",
    "        arr[i] += 1\n",
    "    return arr\n",
    "\n",
    "test = [1,2,3]\n",
    "test1 = add_1(test)\n",
    "print(test1)\n"
   ]
  },
  {
   "cell_type": "code",
   "execution_count": 30,
   "metadata": {},
   "outputs": [
    {
     "name": "stdout",
     "output_type": "stream",
     "text": [
      "a a\n",
      "a b\n",
      "b a\n",
      "b b\n",
      "b\n"
     ]
    }
   ],
   "source": [
    "# print the following:\n",
    "\"\"\"\n",
    "aa\n",
    "ab\n",
    "ba\n",
    "bb\n",
    "\"\"\"\n",
    "arr = [\"a\", \"b\"]\n",
    "\n",
    "for i in arr:\n",
    "    for j in arr:\n",
    "        print(i,j)\n",
    "    \n",
    "\n"
   ]
  },
  {
   "cell_type": "code",
   "execution_count": 1,
   "metadata": {},
   "outputs": [
    {
     "name": "stdout",
     "output_type": "stream",
     "text": [
      "red apple\n",
      "red banana\n",
      "red cherry\n",
      "big apple\n",
      "big banana\n",
      "big cherry\n",
      "tasty apple\n",
      "tasty banana\n",
      "tasty cherry\n"
     ]
    }
   ],
   "source": [
    "adj = [\"red\", \"big\", \"tasty\"]\n",
    "fruits = [\"apple\", \"banana\", \"cherry\"]\n",
    "\n",
    "for x in adj:\n",
    "\tfor y in fruits:\n",
    "\t    print(x,y)"
   ]
  }
 ],
 "metadata": {
  "kernelspec": {
   "display_name": "Python 3",
   "language": "python",
   "name": "python3"
  },
  "language_info": {
   "codemirror_mode": {
    "name": "ipython",
    "version": 3
   },
   "file_extension": ".py",
   "mimetype": "text/x-python",
   "name": "python",
   "nbconvert_exporter": "python",
   "pygments_lexer": "ipython3",
   "version": "3.12.0"
  }
 },
 "nbformat": 4,
 "nbformat_minor": 2
}
